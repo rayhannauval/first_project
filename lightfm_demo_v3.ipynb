{
  "cells": [
    {
      "cell_type": "markdown",
      "metadata": {},
      "source": "# LightFM Demo v3 — Seasonality-aware, cold-user ready\n• Registers ALL customers and ALL (category × period) items\n• Completes missing months in seasonality\n• Uses weighted interaction tuples (no `weights=` argument)\n• `target_month` control & Top-K CSV export for ALL users\n"
    },
    {
      "cell_type": "code",
      "metadata": {},
      "execution_count": null,
      "outputs": [],
      "source": "# !pip install lightfm  # uncomment if needed"
    },
    {
      "cell_type": "code",
      "metadata": {},
      "execution_count": null,
      "outputs": [],
      "source": "import numpy as np, pandas as pd\nfrom pathlib import Path\nfrom lightfm import LightFM\nfrom lightfm.data import Dataset\nfrom lightfm.evaluation import auc_score\n\nDATA = Path('data')\ninter = pd.read_csv(DATA/'interactions_lightfm.csv')\nusers = pd.read_csv(DATA/'user_features.csv')\nitems = pd.read_csv(DATA/'item_features.csv')\nseason = pd.read_csv(DATA/'seasonality_features.csv')\n\n# Normalize IDs\ninter['customer_id'] = inter['customer_id'].astype(str).str.strip()\nusers['customer_id']  = users['customer_id'].astype(str).str.strip()\n\n# Contextualized items\ninter['item_ctx'] = inter['merchant_category'] + '__' + inter['period']\n\nCATEGORIES = items['merchant_category'].tolist()\nPERIODS    = [f'month-{i}' for i in range(12,0,-1)]\n\n# Register ALL users and ALL items (cat×period)\nall_user_ids = sorted(pd.unique(pd.concat([users['customer_id'], inter['customer_id']])) )\nall_item_ids = [f\"{c}__{p}\" for c in CATEGORIES for p in PERIODS]\n\ndataset = Dataset()\ndataset.fit(users=all_user_ids, items=all_item_ids)\n\n# User features\nusers_feat = users.copy()\nusers_feat['casa_bin'] = pd.qcut(users_feat['casa_log'], q=5, duplicates='drop').astype(str)\nuser_features_tokens = [(r['customer_id'], [f\"age_band:{r['age_band']}\", f\"years_band:{r['years_band']}\", f\"casa_bin:{r['casa_bin']}\"]) for _, r in users_feat.iterrows()]\n\n# Item features (base + seasonality)\nprice_map = dict(zip(items['merchant_category'], items['price_band']))\navg_ticket = dict(zip(items['merchant_category'], items['avg_ticket_idr']))\nseason = season.set_index('period')\n\ndef season_tokens(period):\n    row = season.loc[period]\n    return [f\"period:{period}\", f\"top_merchant:{row['top_merchant']}\",\n            f\"eid_bucket:{int(min(3, max(1, 1 + (12 - int(row['months_to_eid']))//4 )))}\",\n            f\"ny_bucket:{int(min(3, max(1, 1 + (12 - int(row['months_to_newyear']))//4 )))}\"]\n\nitem_features_tokens = []\nfor c in CATEGORIES:\n    for p in PERIODS:\n        ic = f\"{c}__{p}\"\n        feats = [f'cat:{c}', f'price:{price_map.get(c, \"Medium\")}', f'avg_ticket_bin:{int(np.log10(max(1, int(avg_ticket.get(c, 100000)))))}']\n        feats += season_tokens(p)\n        item_features_tokens.append((ic, feats))\n\nall_user_feats = sorted({f for _, fs in user_features_tokens for f in fs})\nall_item_feats = sorted({f for _, fs in item_features_tokens for f in fs})\ndataset.fit_partial(user_features=all_user_feats, item_features=all_item_feats)\n\nu_features = dataset.build_user_features(user_features_tokens, normalize=False)\ni_features = dataset.build_item_features(item_features_tokens, normalize=False)\n\n# Interactions split: train on month-12..month-2, validate on month-1\ntrain_df = inter[inter['period'] != 'month-1'].copy()\nvalid_df = inter[inter['period'] == 'month-1'].copy()\n\ntrain_tuples = list(zip(train_df['customer_id'], train_df['item_ctx'], train_df['weight_ui'].astype(float)))\nvalid_tuples = list(zip(valid_df['customer_id'], valid_df['item_ctx'], valid_df['weight_ui'].astype(float)))\n\n(interactions_train, _wt_train) = dataset.build_interactions(train_tuples)\n(interactions_valid, _wt_valid) = dataset.build_interactions(valid_tuples)\n\nmodel = LightFM(loss='warp', no_components=64, learning_rate=0.05, random_state=42)\nmodel.fit(interactions_train, user_features=u_features, item_features=i_features, epochs=20, num_threads=4)\n\nval_auc = auc_score(model, interactions_valid, user_features=u_features, item_features=i_features, num_threads=4).mean()\nprint('Validation AUC (month-1):', float(val_auc))\n\nuser_id_map, user_feature_map, item_id_map, item_feature_map = dataset.mapping()"
    },
    {
      "cell_type": "code",
      "metadata": {},
      "execution_count": null,
      "outputs": [],
      "source": "# Inference controls\n# Choose month (1..12) and K\ntarget_month = 1\nk = 5\n\ncurrent_items = [f\"{c}__month-{target_month}\" for c in CATEGORIES if f\"{c}__month-{target_month}\" in item_id_map]\n\nimport numpy as np\n\ndef topk_for_user(uid):\n    if uid not in user_id_map: return []\n    uidx = user_id_map[uid]\n    idxs = np.array([item_id_map[i] for i in current_items], dtype=np.int32)\n    scores = model.predict(uidx, idxs, user_features=u_features, item_features=i_features)\n    order = np.argsort(-scores)[:k]\n    return [(current_items[i], float(scores[i])) for i in order]\n\n# Export Top-K for all users\nall_users = users['customer_id'].tolist()\nrows = []\nfor uid in all_users:\n    recs = topk_for_user(uid)\n    for rank, (item_ctx, score) in enumerate(recs, start=1):\n        cat, _period = item_ctx.split('__', 1)\n        rows.append({'customer_id': uid, 'merchant_category': cat, 'period_scored': f'month-{target_month}', 'rank': rank, 'score': score})\n\nout_df = pd.DataFrame(rows)\nprint('TopK rows:', len(out_df))\n\nout_path = Path('data') / f'topk_month_{target_month}.csv'\nout_df.to_csv(out_path, index=False)\nprint('Saved:', str(out_path))\n\nout_df.head(20)"
    }
  ],
  "metadata": {
    "kernelspec": {
      "display_name": "Python 3",
      "language": "python",
      "name": "python3"
    },
    "language_info": {
      "name": "python",
      "version": "3.x"
    }
  },
  "nbformat": 4,
  "nbformat_minor": 5
}